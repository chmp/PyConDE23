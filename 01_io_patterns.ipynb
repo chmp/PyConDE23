{
 "cells": [
  {
   "cell_type": "code",
   "execution_count": null,
   "id": "f313de94-39a9-4dc3-be4f-892f6a867f11",
   "metadata": {
    "tags": []
   },
   "outputs": [],
   "source": [
    "import json\n",
    "import subprocess\n",
    "import typing\n",
    "\n",
    "from dataclasses import dataclass\n",
    "from typing import List, Literal, Union, Annotated\n",
    "\n",
    "import cattrs"
   ]
  },
  {
   "cell_type": "code",
   "execution_count": null,
   "id": "97a05303-9f75-409f-986b-013970a6c59c",
   "metadata": {
    "tags": []
   },
   "outputs": [],
   "source": [
    "subprocess.run([\"cargo\", \"build\", \"-p\", \"io-patterns\", \"--release\"], check=True)"
   ]
  },
  {
   "cell_type": "markdown",
   "id": "78cd8194-a703-438e-85cc-9df93b96f692",
   "metadata": {},
   "source": [
    "# Input / output"
   ]
  },
  {
   "cell_type": "code",
   "execution_count": null,
   "id": "f34fe3a2-9e9e-4362-8b70-3976a8794459",
   "metadata": {
    "tags": []
   },
   "outputs": [],
   "source": [
    "@dataclass\n",
    "class Input:\n",
    "    value: int\n",
    "\n",
    "\n",
    "@dataclass\n",
    "class Output:\n",
    "    value: int"
   ]
  },
  {
   "cell_type": "code",
   "execution_count": null,
   "id": "d68dbc63-08b7-4255-a7fc-efb0a25531cc",
   "metadata": {
    "tags": []
   },
   "outputs": [],
   "source": [
    "inp = Input(value=21)\n",
    "inp = cattrs.unstructure(inp)\n",
    "inp = json.dumps(inp)\n",
    "\n",
    "res = subprocess.run(\n",
    "    [\"./target/release/io-patterns-double.exe\"],\n",
    "    input=inp,\n",
    "    encoding=\"utf-8\",\n",
    "    capture_output=True,\n",
    "    check=True,\n",
    ")\n",
    "\n",
    "out = json.loads(res.stdout)\n",
    "out = cattrs.structure(out, Output)\n",
    "out"
   ]
  },
  {
   "cell_type": "code",
   "execution_count": null,
   "id": "a39c0fcb",
   "metadata": {
    "tags": []
   },
   "outputs": [],
   "source": [
    "def call(executable, inp, ty, converter=cattrs):\n",
    "    inp = cattrs.unstructure(inp)\n",
    "    inp = json.dumps(inp)\n",
    "\n",
    "    res = subprocess.run(\n",
    "        [str(executable)],\n",
    "        input=inp,\n",
    "        encoding=\"utf-8\",\n",
    "        capture_output=True,\n",
    "        check=True,\n",
    "    )\n",
    "\n",
    "    out = json.loads(res.stdout)\n",
    "    return cattrs.structure(out, ty)"
   ]
  },
  {
   "cell_type": "code",
   "execution_count": null,
   "id": "e9a754d8-c7cd-4fe8-94d7-bb8206650faa",
   "metadata": {
    "tags": []
   },
   "outputs": [],
   "source": [
    "call(\"./target/release/io-patterns-double.exe\", Input(value=42), Output)"
   ]
  },
  {
   "cell_type": "markdown",
   "id": "17619566-ca64-422d-b517-e9a70cbe9bb6",
   "metadata": {},
   "source": [
    "# Streaming IO"
   ]
  },
  {
   "cell_type": "code",
   "execution_count": null,
   "id": "751b406d-1eca-4aeb-bbf3-60953ff287f5",
   "metadata": {
    "tags": []
   },
   "outputs": [],
   "source": [
    "inputs = [\"hello\", \"world\", \"from\", \"python\"]\n",
    "Output = str\n",
    "\n",
    "\n",
    "def call_streaming(path, inputs, output_type):\n",
    "    with subprocess.Popen(\n",
    "        [path],\n",
    "        encoding=\"utf-8\",\n",
    "        stdin=subprocess.PIPE,\n",
    "        stdout=subprocess.PIPE,\n",
    "    ) as proc:\n",
    "        for inp in inputs:\n",
    "            inp = json.dumps(cattrs.unstructure(inp))\n",
    "\n",
    "            proc.stdin.write(inp)\n",
    "            proc.stdin.write(\"\\n\")\n",
    "            proc.stdin.flush()\n",
    "\n",
    "            out = proc.stdout.readline().rstrip()\n",
    "\n",
    "            yield cattrs.structure(json.loads(out), output_type)\n",
    "\n",
    "        proc.stdin.close()\n",
    "\n",
    "    assert proc.returncode == 0\n",
    "\n",
    "\n",
    "for out in call_streaming(\n",
    "    \"./target/release/io-patterns-echo.exe\",\n",
    "    inputs,\n",
    "    str,\n",
    "):\n",
    "    print(out)"
   ]
  },
  {
   "cell_type": "markdown",
   "id": "83d1027a-f246-44e8-b263-4dd6f6c7e2eb",
   "metadata": {},
   "source": [
    "# Working with unions"
   ]
  },
  {
   "cell_type": "code",
   "execution_count": null,
   "id": "719826e2-2481-4099-9b6e-56572660b523",
   "metadata": {
    "tags": []
   },
   "outputs": [],
   "source": [
    "@dataclass\n",
    "class Input:\n",
    "    floats: List[float]\n",
    "    flexible: Union[str, float]\n",
    "\n",
    "\n",
    "@dataclass\n",
    "class Output:\n",
    "    sum: float\n",
    "    flexible: Union[str, float]"
   ]
  },
  {
   "cell_type": "code",
   "execution_count": null,
   "id": "df4aa6fd-88d4-40fc-81cd-82f640b2fc16",
   "metadata": {},
   "outputs": [],
   "source": [
    "def structure_untagged_union(obj, ty):\n",
    "    assert typing.get_origin(ty) is typing.Union\n",
    "\n",
    "    errors = []\n",
    "    for cand_ty in typing.get_args(ty):\n",
    "        try:\n",
    "            return cattrs.structure(obj, cand_ty)\n",
    "\n",
    "        except Exception as exc:\n",
    "            errors.append(exc)\n",
    "\n",
    "    raise ValueError(f\"Cannot struct object as {ty}: {errors}\")\n",
    "\n",
    "\n",
    "# register a custom structure hook\n",
    "cattrs.register_structure_hook(Union[str, float], structure_untagged_union)"
   ]
  },
  {
   "cell_type": "code",
   "execution_count": null,
   "id": "991cdb71-1984-4376-afbf-d4e2e682c72c",
   "metadata": {
    "tags": []
   },
   "outputs": [],
   "source": [
    "call(\n",
    "    \"./target/release/io-patterns-complex.exe\",\n",
    "    Input(\n",
    "        floats=[1.0, 2.0, 3.0, 4.0],\n",
    "        flexible=\"foo\",\n",
    "    ),\n",
    "    Output,\n",
    ")"
   ]
  },
  {
   "cell_type": "markdown",
   "id": "3f958d1e-ff60-43aa-b5ae-91bd805d7f6a",
   "metadata": {},
   "source": [
    "## More unions for cattrs"
   ]
  },
  {
   "cell_type": "markdown",
   "id": "b96cea1a-f392-4aa7-b5ff-70ea2fcc09fd",
   "metadata": {},
   "source": [
    "### External tags\n",
    "\n",
    "Serialize unions of the from:\n",
    "\n",
    "```json\n",
    "{\n",
    "    {type}: {value}\n",
    "}\n",
    "```\n",
    "\n",
    "For example:\n",
    "\n",
    "```json\n",
    "{\"str\": \"hello world\"}\n",
    "{\"float\": 123.0}\n",
    "```"
   ]
  },
  {
   "cell_type": "code",
   "execution_count": null,
   "id": "362ceccb-89e4-4fd4-a68c-e05fe0f2367f",
   "metadata": {
    "tags": []
   },
   "outputs": [],
   "source": [
    "TaggedOutput = Annotated[Union[str, float], \"external-tag\"]"
   ]
  },
  {
   "cell_type": "code",
   "execution_count": null,
   "id": "ed32d6a5-e9e1-438e-ad87-2c9380debb84",
   "metadata": {
    "tags": []
   },
   "outputs": [],
   "source": [
    "def supports_structure_external_tag(ty):\n",
    "    if typing.get_origin(ty) is not Annotated:\n",
    "        return False\n",
    "\n",
    "    base_ty, *annotations = typing.get_args(ty)\n",
    "\n",
    "    if typing.get_origin(base_ty) is not typing.Union:\n",
    "        return False\n",
    "\n",
    "    if \"external-tag\" not in annotations:\n",
    "        return False\n",
    "\n",
    "    return all(hasattr(arg, \"__name__\") for arg in typing.get_args(base_ty))\n",
    "\n",
    "\n",
    "def structure_external_tag(obj, ty):\n",
    "    assert typing.get_origin(ty) is Annotated\n",
    "    assert isinstance(obj, dict) and len(obj) == 1\n",
    "\n",
    "    base_ty, *_ = typing.get_args(ty)\n",
    "    assert typing.get_origin(base_ty) is typing.Union\n",
    "\n",
    "    types = {child.__name__: child for child in typing.get_args(base_ty)}\n",
    "\n",
    "    ((key, val),) = obj.items()\n",
    "    return cattrs.structure(val, types[key])"
   ]
  },
  {
   "cell_type": "code",
   "execution_count": null,
   "id": "121e2d9b-60cd-47b8-b449-4cd4d748eda8",
   "metadata": {
    "tags": []
   },
   "outputs": [],
   "source": [
    "cattrs.register_structure_hook_func(\n",
    "    supports_structure_external_tag,\n",
    "    structure_external_tag,\n",
    ")"
   ]
  },
  {
   "cell_type": "code",
   "execution_count": null,
   "id": "3f9a37ba-992e-4261-b26a-d0fd7552cf8e",
   "metadata": {
    "tags": []
   },
   "outputs": [],
   "source": [
    "call(\"./target/release/io-patterns-complex-tagged.exe\", \"string\", TaggedOutput)"
   ]
  },
  {
   "cell_type": "markdown",
   "id": "cf1af7d3-82e3-4e7d-afc6-a3bbc63111ae",
   "metadata": {},
   "source": [
    "### Internally tag unions\n",
    "\n",
    "Serialize unions with a `type` tag:\n",
    "\n",
    "```json\n",
    "{\n",
    "    \"type\": \"...\",\n",
    "    \"...\",\n",
    "}\n",
    "```"
   ]
  },
  {
   "cell_type": "code",
   "execution_count": null,
   "id": "3fef0576-e323-4820-b036-6f9bdf049305",
   "metadata": {
    "tags": []
   },
   "outputs": [],
   "source": [
    "def supports_structure_type_tag(ty, *, type_tag=\"type\"):\n",
    "    if typing.get_origin(ty) is not typing.Union:\n",
    "        return False\n",
    "\n",
    "    for child in typing.get_args(ty):\n",
    "        hints = typing.get_type_hints(child)\n",
    "        if \"type\" not in hints:\n",
    "            return False\n",
    "\n",
    "        type_hint = hints[type_tag]\n",
    "        if typing.get_origin(type_hint) is not typing.Literal:\n",
    "            return False\n",
    "\n",
    "        type_args = typing.get_args(type_hint)\n",
    "        if len(type_args) != 1 or not isinstance(type_args[0], str):\n",
    "            return False\n",
    "\n",
    "    return True\n",
    "\n",
    "\n",
    "def structure_type_tag(obj, ty, *, type_tag=\"type\", converter=cattrs):\n",
    "    assert isinstance(obj, dict)\n",
    "    type_tag_value = obj[type_tag]\n",
    "\n",
    "    for child in typing.get_args(ty):\n",
    "        hints = typing.get_type_hints(child)\n",
    "        (type_tag_value_child,) = typing.get_args(hints[type_tag])\n",
    "        if type_tag_value == type_tag_value_child:\n",
    "            return child(obj)\n",
    "\n",
    "    raise ValueError(f\"Cannot structure {obj}\")"
   ]
  },
  {
   "cell_type": "code",
   "execution_count": null,
   "id": "3904e676-3313-41e7-8d9d-3a7bf1217b6e",
   "metadata": {
    "tags": []
   },
   "outputs": [],
   "source": [
    "cattrs.register_structure_hook_func(supports_structure_type_tag, structure_type_tag)"
   ]
  },
  {
   "cell_type": "code",
   "execution_count": null,
   "id": "7fdce20b-1822-4206-b18b-4cc67a917354",
   "metadata": {
    "tags": []
   },
   "outputs": [],
   "source": [
    "@dataclass\n",
    "class TaggedFloat:\n",
    "    value: float\n",
    "    type: Literal[\"float\"] = \"float\"\n",
    "\n",
    "\n",
    "@dataclass\n",
    "class TaggedString:\n",
    "    value: str\n",
    "    type: Literal[\"str\"] = \"str\"\n",
    "\n",
    "\n",
    "print(\n",
    "    cattrs.structure({\"type\": \"float\", \"value\": 42}, Union[TaggedFloat, TaggedString])\n",
    ")\n",
    "print(\n",
    "    cattrs.structure({\"type\": \"str\", \"value\": \"foo\"}, Union[TaggedFloat, TaggedString])\n",
    ")"
   ]
  },
  {
   "cell_type": "code",
   "execution_count": null,
   "id": "ca1a1920-4fa3-4779-970d-74f339149edb",
   "metadata": {},
   "outputs": [],
   "source": []
  }
 ],
 "metadata": {
  "kernelspec": {
   "display_name": "Python 3 (ipykernel)",
   "language": "python",
   "name": "python3"
  },
  "language_info": {
   "codemirror_mode": {
    "name": "ipython",
    "version": 3
   },
   "file_extension": ".py",
   "mimetype": "text/x-python",
   "name": "python",
   "nbconvert_exporter": "python",
   "pygments_lexer": "ipython3",
   "version": "3.10.9"
  }
 },
 "nbformat": 4,
 "nbformat_minor": 5
}
