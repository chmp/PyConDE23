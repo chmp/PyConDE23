{
 "cells": [
  {
   "cell_type": "code",
   "execution_count": null,
   "id": "3ee0f707-eea3-41ee-aab7-adff1640a4a4",
   "metadata": {
    "tags": []
   },
   "outputs": [],
   "source": [
    "import matplotlib as mpl\n",
    "import matplotlib.pyplot as plt\n",
    "import numpy as np\n",
    "\n",
    "from timing import load_timings"
   ]
  },
  {
   "cell_type": "code",
   "execution_count": null,
   "id": "81af2403-318f-4d99-8f25-a490aeb11c45",
   "metadata": {
    "tags": []
   },
   "outputs": [],
   "source": [
    "plt.style.use(\"seaborn-v0_8-muted\")\n",
    "color_cycle = mpl.rcParams[\"axes.prop_cycle\"].by_key()[\"color\"]"
   ]
  },
  {
   "cell_type": "code",
   "execution_count": null,
   "id": "f5a7b124-f633-4042-b127-5b355a62fef4",
   "metadata": {
    "tags": []
   },
   "outputs": [],
   "source": [
    "timings = load_timings()"
   ]
  },
  {
   "cell_type": "code",
   "execution_count": null,
   "id": "62004d46-aebd-48f9-b74c-4409755f9425",
   "metadata": {
    "tags": []
   },
   "outputs": [],
   "source": [
    "timings[\"convert-spotify-python\"] / timings[\"convert-spotify-rust\"]"
   ]
  },
  {
   "cell_type": "code",
   "execution_count": null,
   "id": "017affc6-efeb-4b3e-b989-17b452945d8b",
   "metadata": {
    "tags": []
   },
   "outputs": [],
   "source": [
    "timings[\"parse-pdf-python\"] / timings[\"parse-pdf-rust\"]"
   ]
  },
  {
   "cell_type": "code",
   "execution_count": null,
   "id": "3bdfd7dd-7abf-4865-bd8a-649f8eb597c0",
   "metadata": {
    "tags": []
   },
   "outputs": [],
   "source": [
    "timings[\"convert-pdf-end-to-end-python\"] / timings[\"convert-pdf-end-to-end-rust\"]"
   ]
  },
  {
   "cell_type": "code",
   "execution_count": null,
   "id": "3231c84c-80bc-4d12-a885-172dc64fc665",
   "metadata": {
    "tags": []
   },
   "outputs": [],
   "source": [
    "json_to_arrow_labels = {\n",
    "    \"convert-spotify-python\": \"Python\",\n",
    "    \"convert-spotify-rust\": \"Rust\",\n",
    "    \"convert-spotify-python-builders\": \"Python\\n+Builders\",\n",
    "    \"convert-spotify-rust-v2\": \"Rust\\n+Manual\",\n",
    "    \"convert-spotify-rust-json-only\": \"Rust\\n+IO-Only\",\n",
    "}\n",
    "json_to_arrow_times = {k: timings[k] for k in json_to_arrow_labels}"
   ]
  },
  {
   "cell_type": "code",
   "execution_count": null,
   "id": "bd997a98-fff1-4f42-a7e0-8cd53e83e001",
   "metadata": {
    "tags": []
   },
   "outputs": [],
   "source": [
    "plt.figure(figsize=(10, 5))\n",
    "plt.bar(\n",
    "    json_to_arrow_labels.values(),\n",
    "    np.fromiter(json_to_arrow_times.values(), \"float\") / 60,\n",
    "    color=[color_cycle[\"Rust\" in l] for l in json_to_arrow_labels.values()],\n",
    ")\n",
    "plt.grid(axis=\"y\")\n",
    "plt.gca().set_axisbelow(True)\n",
    "plt.yticks(\n",
    "    [y for y, _ in zip(*plt.yticks())], [f\"{y:.0f}m\" for y, _ in zip(*plt.yticks())]\n",
    ")\n",
    "plt.ylabel(\"Runtime\")\n",
    "pass"
   ]
  },
  {
   "cell_type": "code",
   "execution_count": null,
   "id": "824e8c0a-368b-40c9-9941-cca471635ece",
   "metadata": {
    "tags": []
   },
   "outputs": [],
   "source": [
    "print(timings[\"convert-spotify-python\"] / timings[\"convert-spotify-rust\"])\n",
    "print(timings[\"convert-spotify-python-builders\"] / timings[\"convert-spotify-rust\"])\n",
    "print(timings[\"convert-spotify-python-builders\"] / timings[\"convert-spotify-rust-v2\"])"
   ]
  },
  {
   "cell_type": "code",
   "execution_count": null,
   "id": "1cb36902-eed5-4868-b13c-54132b8791ce",
   "metadata": {},
   "outputs": [],
   "source": []
  }
 ],
 "metadata": {
  "kernelspec": {
   "display_name": "Python 3 (ipykernel)",
   "language": "python",
   "name": "python3"
  },
  "language_info": {
   "codemirror_mode": {
    "name": "ipython",
    "version": 3
   },
   "file_extension": ".py",
   "mimetype": "text/x-python",
   "name": "python",
   "nbconvert_exporter": "python",
   "pygments_lexer": "ipython3",
   "version": "3.10.9"
  }
 },
 "nbformat": 4,
 "nbformat_minor": 5
}
