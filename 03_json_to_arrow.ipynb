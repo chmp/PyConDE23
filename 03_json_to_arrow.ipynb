{
 "cells": [
  {
   "cell_type": "markdown",
   "id": "5d62c157-4927-4dbe-a837-b41549808c35",
   "metadata": {},
   "source": [
    "# 03 Converting JSON to Tabular Data"
   ]
  },
  {
   "cell_type": "code",
   "execution_count": null,
   "id": "1564ad14-6f75-44eb-9102-bab92140b387",
   "metadata": {
    "tags": []
   },
   "outputs": [],
   "source": [
    "import json\n",
    "import subprocess\n",
    "import zipfile\n",
    "\n",
    "from pathlib import Path\n",
    "\n",
    "import pyarrow as pa\n",
    "import polars as pl\n",
    "\n",
    "from tqdm import tqdm\n",
    "\n",
    "from timing import setup\n",
    "\n",
    "setup()\n",
    "\n",
    "root = Path(\"data/\")"
   ]
  },
  {
   "cell_type": "code",
   "execution_count": null,
   "id": "8da47fbb-8b5d-480b-b9a8-414248e5b9b6",
   "metadata": {
    "tags": []
   },
   "outputs": [],
   "source": [
    "subprocess.run([\"cargo\", \"build\", \"-p\", \"json_to_arrow\", \"--release\"], check=True)"
   ]
  },
  {
   "cell_type": "code",
   "execution_count": null,
   "id": "2da27816-ad10-44b0-a096-10d2dded2702",
   "metadata": {
    "tags": []
   },
   "outputs": [],
   "source": [
    "schema = {\n",
    "    \"name\": pa.string(),\n",
    "    \"collaborative\": pa.string(),\n",
    "    \"pid\": pa.int64(),\n",
    "    \"modified_at\": pa.date64(),\n",
    "    \"num_tracks\": pa.int16(),\n",
    "    \"num_albums\": pa.int16(),\n",
    "    \"num_followers\": pa.int64(),\n",
    "    \"tracks\": pa.list_(\n",
    "        pa.struct(\n",
    "            {\n",
    "                \"pos\": pa.int16(),\n",
    "                \"artist_name\": pa.string(),\n",
    "                \"track_uri\": pa.string(),\n",
    "                \"artist_uri\": pa.string(),\n",
    "                \"track_name\": pa.string(),\n",
    "                \"album_uri\": pa.string(),\n",
    "                \"duration_ms\": pa.int64(),\n",
    "                \"album_name\": pa.string(),\n",
    "            }\n",
    "        ),\n",
    "    ),\n",
    "}"
   ]
  },
  {
   "cell_type": "code",
   "execution_count": null,
   "id": "50379916-054c-4e4b-a010-abeb728198be",
   "metadata": {
    "tags": []
   },
   "outputs": [],
   "source": [
    "%%record-time convert-spotify-python\n",
    "\n",
    "with zipfile.ZipFile(root / \"spotify_million_playlist_dataset.zip\", \"r\") as z:\n",
    "    for i in range(1000):\n",
    "        start = i * 1000 \n",
    "        end = (i + 1) * 1000 - 1\n",
    "\n",
    "        with z.open(f\"data/mpd.slice.{start}-{end}.json\", \"r\") as fobj:\n",
    "            d = json.load(fobj)\n",
    "        \n",
    "        for playlist in d[\"playlists\"]:\n",
    "            playlist[\"modified_at\"] = 1000 * playlist[\"modified_at\"]\n",
    "        \n",
    "        table = pa.table({\n",
    "            name: pa.array([pl[name] for pl in d[\"playlists\"]], type=ty)\n",
    "            for name, ty in schema.items()\n",
    "        })\n",
    "        chunk = pl.from_arrow(table)"
   ]
  },
  {
   "cell_type": "code",
   "execution_count": null,
   "id": "2dcfe954-8496-4683-b6c7-35aa98e9f1ad",
   "metadata": {
    "tags": []
   },
   "outputs": [],
   "source": [
    "class DictBuilder:\n",
    "    def __init__(self):\n",
    "        self.index = {}\n",
    "        self.indices = ArrayBuilder(pa.uint32())\n",
    "\n",
    "    def append(self, value):\n",
    "        index = self.index\n",
    "        if value not in index:\n",
    "            index[value] = len(index)\n",
    "\n",
    "        self.indices.append(index[value])\n",
    "\n",
    "    def build(self):\n",
    "        values = pa.array(list(self.index), type=pa.large_utf8())\n",
    "        self.index.clear()\n",
    "\n",
    "        indices = self.indices.build()\n",
    "        return pa.DictionaryArray.from_arrays(indices, values)\n",
    "\n",
    "\n",
    "class _StructBuilder:\n",
    "    _factory = None\n",
    "\n",
    "    def __init__(self, **field_builders):\n",
    "        self.field_builders = field_builders\n",
    "\n",
    "    def append(self, value):\n",
    "        for k, builder in self.field_builders.items():\n",
    "            builder.append(value[k])\n",
    "\n",
    "    def build(self):\n",
    "        arrays = {k: builder.build() for k, builder in self.field_builders.items()}\n",
    "        return self._factory(list(arrays.values()), list(arrays))\n",
    "\n",
    "\n",
    "class RecordBatchBuilder(_StructBuilder):\n",
    "    _factory = pa.record_batch\n",
    "\n",
    "\n",
    "class StructBuilder(_StructBuilder):\n",
    "    _factory = pa.StructArray.from_arrays\n",
    "\n",
    "\n",
    "class ListBuilder:\n",
    "    def __init__(self, item_builder):\n",
    "        self.item_builder = item_builder\n",
    "        self.offsets = [0]\n",
    "\n",
    "    def append(self, value):\n",
    "        for item in value:\n",
    "            self.item_builder.append(item)\n",
    "\n",
    "        self.offsets.append(self.offsets[-1] + len(value))\n",
    "\n",
    "    def build(self):\n",
    "        offsets = pa.array(self.offsets, type=pa.int64())\n",
    "        self.offsets.clear()\n",
    "\n",
    "        items = self.item_builder.build()\n",
    "        return pa.LargeListArray.from_arrays(offsets, items)\n",
    "\n",
    "\n",
    "class ArrayBuilder:\n",
    "    def __init__(self, type):\n",
    "        self.values = []\n",
    "        self.type = type\n",
    "\n",
    "        self._arrays = []\n",
    "\n",
    "    def append(self, value):\n",
    "        self.values.append(value)\n",
    "\n",
    "        if len(self.values) > 1_024:\n",
    "            self._build()\n",
    "\n",
    "    def _build(self):\n",
    "        self._arrays.append(pa.array(self.values, type=self.type))\n",
    "        self.values.clear()\n",
    "\n",
    "    def build(self):\n",
    "        self._build()\n",
    "        res = pa.concat_arrays(self._arrays)\n",
    "        self._arrays.clear()\n",
    "        return res"
   ]
  },
  {
   "cell_type": "code",
   "execution_count": null,
   "id": "3e1fbbab-f752-4a3c-b6c0-ccb0efb1d97e",
   "metadata": {
    "tags": []
   },
   "outputs": [],
   "source": [
    "%%record-time convert-spotify-python-builders\n",
    "\n",
    "builder = RecordBatchBuilder(\n",
    "    name=DictBuilder(),\n",
    "    collaborative=DictBuilder(),\n",
    "    pid=ArrayBuilder(pa.int64()),\n",
    "    modified_at=ArrayBuilder(pa.date64()),\n",
    "    num_tracks=ArrayBuilder(pa.int16()),\n",
    "    num_albums=ArrayBuilder(pa.int16()),\n",
    "    num_followers=ArrayBuilder(pa.int64()),\n",
    "    tracks=ListBuilder(\n",
    "        StructBuilder(\n",
    "            pos=ArrayBuilder(pa.int16()),\n",
    "            artist_name=DictBuilder(),\n",
    "            track_uri=DictBuilder(),\n",
    "            artist_uri=DictBuilder(),\n",
    "            track_name=DictBuilder(),\n",
    "            album_uri=DictBuilder(),\n",
    "            album_name=DictBuilder(),\n",
    "            duration_ms=ArrayBuilder(pa.int64()),\n",
    "        ),\n",
    "    ),\n",
    ")\n",
    "\n",
    "n = 1_000\n",
    "\n",
    "with zipfile.ZipFile(root / \"spotify_million_playlist_dataset.zip\", \"r\") as z:\n",
    "    for i in tqdm(range(n)):\n",
    "        start = i * 1000 \n",
    "        end = (i + 1) * 1000 - 1\n",
    "\n",
    "        with z.open(f\"data/mpd.slice.{start}-{end}.json\", \"r\") as fobj:\n",
    "            d = json.load(fobj)\n",
    "        \n",
    "        for pl in d[\"playlists\"]:\n",
    "            pl[\"modified_at\"] = 1000 * pl[\"modified_at\"]\n",
    "            builder.append(pl)\n",
    "        \n",
    "batch = builder.build()\n",
    "\n",
    "writer = pa.ipc.new_file(\"./data/spotify_million_playlist_dataset_py.ipc\", batch.schema)\n",
    "writer.write_batch(batch)\n",
    "writer.close()"
   ]
  },
  {
   "cell_type": "code",
   "execution_count": null,
   "id": "4cbaf51b-40c1-4a7c-8c14-506585d8e0c8",
   "metadata": {
    "tags": []
   },
   "outputs": [],
   "source": [
    "%%record-time convert-spotify-rust\n",
    "res = subprocess.run([\n",
    "    \"./target/release/json_to_arrow.exe\",\n",
    "    \"./data/spotify_million_playlist_dataset.zip\",\n",
    "    \"./data/spotify_million_playlist_dataset.ipc\",\n",
    "], check=True)"
   ]
  },
  {
   "cell_type": "code",
   "execution_count": null,
   "id": "f9921e67-102e-4a48-88c2-17d428437875",
   "metadata": {
    "tags": []
   },
   "outputs": [],
   "source": [
    "%%record-time convert-spotify-rust-v2\n",
    "res = subprocess.run([\n",
    "    \"./target/release/json_to_arrow_v2.exe\",\n",
    "    \"./data/spotify_million_playlist_dataset.zip\",\n",
    "    \"./data/spotify_million_playlist_dataset.ipc\",\n",
    "], check=True)"
   ]
  },
  {
   "cell_type": "code",
   "execution_count": null,
   "id": "711a7560-6498-4752-b1b6-0b6994b3f4c5",
   "metadata": {
    "tags": []
   },
   "outputs": [],
   "source": [
    "%%record-time convert-spotify-rust-v3\n",
    "res = subprocess.run([\n",
    "    \"./target/release/json_to_arrow_v3.exe\",\n",
    "    \"./data/spotify_million_playlist_dataset.zip\",\n",
    "    \"./data/spotify_million_playlist_dataset.ipc\",\n",
    "], check=True)"
   ]
  },
  {
   "cell_type": "code",
   "execution_count": null,
   "id": "9e5a7de9-2f7e-4ae9-9fd5-d7e922687f1d",
   "metadata": {
    "tags": []
   },
   "outputs": [],
   "source": [
    "%%record-time convert-spotify-rust-json-only\n",
    "res = subprocess.run([\n",
    "    \"./target/release/json_to_arrow_json_only.exe\",\n",
    "    \"./data/spotify_million_playlist_dataset.zip\",\n",
    "], check=True)"
   ]
  },
  {
   "cell_type": "markdown",
   "id": "d38f2bec-b22f-4208-b1f0-7131a86eea1a",
   "metadata": {},
   "source": [
    "### Using the dataset"
   ]
  },
  {
   "cell_type": "code",
   "execution_count": null,
   "id": "2bbd2a73-0cd5-4fe7-b2ab-6a0866c0b434",
   "metadata": {
    "tags": []
   },
   "outputs": [],
   "source": [
    "df = pl.scan_ipc(\"data/spotify_million_playlist_dataset.ipc\", memory_map=True)"
   ]
  },
  {
   "cell_type": "code",
   "execution_count": null,
   "id": "4504b48d-91bb-4dfe-bbcf-7900765634c5",
   "metadata": {
    "tags": []
   },
   "outputs": [],
   "source": [
    "%%time\n",
    "df.select(pl.col(\"collaborative\").cast(pl.Float32).mean()).collect()"
   ]
  },
  {
   "cell_type": "code",
   "execution_count": null,
   "id": "40db4b15-9259-4ced-b059-85d65e99adba",
   "metadata": {
    "tags": []
   },
   "outputs": [],
   "source": [
    "%%time\n",
    "counts = (\n",
    "    df.select(\n",
    "        pl.col(\"tracks\")\n",
    "        .arr.explode()\n",
    "        .struct.field(\"artist_name\")\n",
    "        .value_counts()\n",
    "        .alias(\"counts\")\n",
    "    )\n",
    "    .select(\n",
    "        [\n",
    "            pl.col(\"counts\").struct.field(\"artist_name\"),\n",
    "            pl.col(\"counts\").struct.field(\"counts\"),\n",
    "        ]\n",
    "    )\n",
    "    .sort(\"counts\")\n",
    "    .tail(5)\n",
    "    .collect()\n",
    ")\n",
    "\n",
    "counts"
   ]
  },
  {
   "cell_type": "code",
   "execution_count": null,
   "id": "e2099d9a-d258-45c3-aeca-fe35eef7a199",
   "metadata": {
    "tags": []
   },
   "outputs": [],
   "source": [
    "%%time\n",
    "df.select(pl.col(\"modified_at\").dt.year().value_counts()).unnest(\"modified_at\").sort(\n",
    "    \"counts\"\n",
    ").collect()"
   ]
  },
  {
   "cell_type": "code",
   "execution_count": null,
   "id": "3e0ff07c-ebfe-4a93-8f6b-ae8ff0b5fb3c",
   "metadata": {},
   "outputs": [],
   "source": []
  }
 ],
 "metadata": {
  "kernelspec": {
   "display_name": "main",
   "language": "python",
   "name": "main"
  },
  "language_info": {
   "codemirror_mode": {
    "name": "ipython",
    "version": 3
   },
   "file_extension": ".py",
   "mimetype": "text/x-python",
   "name": "python",
   "nbconvert_exporter": "python",
   "pygments_lexer": "ipython3",
   "version": "3.8.10"
  }
 },
 "nbformat": 4,
 "nbformat_minor": 5
}
